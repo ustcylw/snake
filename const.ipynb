{
 "cells": [
  {
   "cell_type": "code",
   "execution_count": null,
   "id": "0c1f93d5",
   "metadata": {},
   "outputs": [],
   "source": [
    "import ipy_importer"
   ]
  },
  {
   "cell_type": "code",
   "execution_count": null,
   "id": "eec9ca13",
   "metadata": {},
   "outputs": [],
   "source": [
    "#coding:utf-8\n",
    "import pygame\n",
    "from pygame.locals import *\n",
    "\n",
    "class _const:\n",
    "    class ConstError(TypeError): pass\n",
    "    class ConstCaseError(ConstError): pass\n",
    "\n",
    "    def __setattr__(self, name, value):\n",
    "        if name in self.__dict__:\n",
    "            raise self.ConstError(\"can't change const %s\" % name)\n",
    "        if not name.isupper():\n",
    "            raise self.ConstCaseError('const name \"%s\" is not all uppercase' % name)\n",
    "        self.__dict__[name] = value\n",
    "\n",
    "    # 计算两点之间的曼哈顿距离(L1距离)\n",
    "def manhattan_distance(p1, p2):\n",
    "\treturn abs(p1[0] - p2[0]) + abs(p1[1] - p2[1])\n",
    "\n",
    "\n",
    "\n",
    "# 在这里初始化常量后 即不可改变\n",
    "const = _const()\n",
    "const.BOX = 20 # 一个格子的大小\n",
    "#const.BOARD_WIDTH = 7 # 盘面的宽度\n",
    "#const.BOARD_HEIGHT = 5 # 盘面的高度\n",
    "const.BOARD_WIDTH = 50 \n",
    "const.BOARD_HEIGHT = 30\n",
    "\n",
    "# 定义棋盘中食物 蛇头 蛇尾的常量值 用于board的记录\n",
    "const.UNDEFINED = const.BOARD_WIDTH * const.BOARD_HEIGHT + 1 # 就是无限远的意思\n",
    "const.FOOD = -1\n",
    "const.SNAKE_HEAD = -2\n",
    "const.SNAKE_TAIL = -3 \n",
    "\n",
    "# 定义颜色变量\n",
    "const.RED_COLOR = pygame.Color(255,0,0)\n",
    "const.BLACK_COLOR = pygame.Color(0,0,0)\n",
    "const.WHITE_COLOR = pygame.Color(255,255,255)\n",
    "const.GRAY_COLOR = pygame.Color(150,150,150)\n",
    "\n",
    "# 移动一步后的状态\n",
    "const.STATE_GAMEOVER = 0 # 游戏结束\n",
    "const.STATE_MOVE = 1     # 移动一格\n",
    "const.STATE_EAT_FOOD = 2 # 吃食物"
   ]
  }
 ],
 "metadata": {
  "kernelspec": {
   "display_name": "Python 3.7.10 64-bit ('object_tracking': conda)",
   "language": "python",
   "name": "python371064bitobjecttrackingconda66c6f2efc4d740808a4620e21504b8f3"
  },
  "language_info": {
   "codemirror_mode": {
    "name": "ipython",
    "version": 3
   },
   "file_extension": ".py",
   "mimetype": "text/x-python",
   "name": "python",
   "nbconvert_exporter": "python",
   "pygments_lexer": "ipython3",
   "version": "3.7.10"
  },
  "toc": {
   "base_numbering": 1,
   "nav_menu": {},
   "number_sections": true,
   "sideBar": true,
   "skip_h1_title": false,
   "title_cell": "Table of Contents",
   "title_sidebar": "Contents",
   "toc_cell": false,
   "toc_position": {},
   "toc_section_display": true,
   "toc_window_display": false
  },
  "varInspector": {
   "cols": {
    "lenName": 16,
    "lenType": 16,
    "lenVar": 40
   },
   "kernels_config": {
    "python": {
     "delete_cmd_postfix": "",
     "delete_cmd_prefix": "del ",
     "library": "var_list.py",
     "varRefreshCmd": "print(var_dic_list())"
    },
    "r": {
     "delete_cmd_postfix": ") ",
     "delete_cmd_prefix": "rm(",
     "library": "var_list.r",
     "varRefreshCmd": "cat(var_dic_list()) "
    }
   },
   "types_to_exclude": [
    "module",
    "function",
    "builtin_function_or_method",
    "instance",
    "_Feature"
   ],
   "window_display": false
  }
 },
 "nbformat": 4,
 "nbformat_minor": 5
}
