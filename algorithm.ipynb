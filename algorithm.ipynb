{
 "cells": [
  {
   "cell_type": "code",
   "execution_count": null,
   "id": "39c7ccb2",
   "metadata": {},
   "outputs": [],
   "source": [
    "import ipy_importer"
   ]
  },
  {
   "cell_type": "code",
   "execution_count": 1,
   "id": "354eb11c",
   "metadata": {
    "ExecuteTime": {
     "end_time": "2021-06-30T13:15:46.718341Z",
     "start_time": "2021-06-30T13:15:46.699141Z"
    }
   },
   "outputs": [
    {
     "ename": "ModuleNotFoundError",
     "evalue": "No module named 'const'",
     "output_type": "error",
     "traceback": [
      "\u001b[0;31m---------------------------------------------------------------------------\u001b[0m",
      "\u001b[0;31mModuleNotFoundError\u001b[0m                       Traceback (most recent call last)",
      "\u001b[0;32m<ipython-input-1-6c8c8653414a>\u001b[0m in \u001b[0;36m<module>\u001b[0;34m\u001b[0m\n\u001b[0;32m----> 1\u001b[0;31m \u001b[0;32mfrom\u001b[0m \u001b[0mconst\u001b[0m \u001b[0;32mimport\u001b[0m \u001b[0;34m*\u001b[0m \u001b[0;31m#使用常量\u001b[0m\u001b[0;34m\u001b[0m\u001b[0;34m\u001b[0m\u001b[0m\n\u001b[0m\u001b[1;32m      2\u001b[0m \u001b[0;32mfrom\u001b[0m \u001b[0mboard\u001b[0m \u001b[0;32mimport\u001b[0m \u001b[0;34m*\u001b[0m \u001b[0;31m# 导入棋盘类\u001b[0m\u001b[0;34m\u001b[0m\u001b[0;34m\u001b[0m\u001b[0m\n\u001b[1;32m      3\u001b[0m \u001b[0;32mimport\u001b[0m \u001b[0mcopy\u001b[0m\u001b[0;34m\u001b[0m\u001b[0;34m\u001b[0m\u001b[0m\n\u001b[1;32m      4\u001b[0m \u001b[0;34m\u001b[0m\u001b[0m\n\u001b[1;32m      5\u001b[0m \u001b[0;31m# 人工智能算法类\u001b[0m\u001b[0;34m\u001b[0m\u001b[0;34m\u001b[0m\u001b[0;34m\u001b[0m\u001b[0m\n",
      "\u001b[0;31mModuleNotFoundError\u001b[0m: No module named 'const'"
     ]
    }
   ],
   "source": [
    "from const import * #使用常量\n",
    "from board import * # 导入棋盘类\n",
    "import copy\n",
    "\n",
    "# 人工智能算法类\n",
    "class Algorithm:\n",
    "    # 构造器 传入棋盘对象 构件一个实际棋盘和一个虚拟棋盘\n",
    "    def __init__(self, board):\n",
    "        self.board = board\n",
    "\n",
    "    # 根据食物位置 蛇头位置 蛇身的状态决定移动的方向\n",
    "    def findDirection(self):\n",
    "        return \"down\"\n",
    "\n",
    "        # 在各种方案都不行时，随便找一个可行的方向来走(1步),\n",
    "    def any_possible_move(self):\n",
    "        best_move = \"none\"\n",
    "        self.board.board_reset()\n",
    "        self.board.board_refresh()\n",
    "\n",
    "        min = const.UNDEFINED\n",
    "        dir = [\"left\", \"up\", \"right\", \"down\"]\n",
    "        for i in range(4):\n",
    "            # 判断这个点是否能往这个方向移动(去寻找食物)\n",
    "            if self.board.is_move_possible(self.board.head, dir[i]):\n",
    "                # 如果可以移动 则直接使用该方向了\n",
    "                best_move = dir[i]\n",
    "                break\n",
    "    \n",
    "        return best_move\n",
    "\n",
    "    # 根据食物位置 蛇头位置 蛇身的状态决定移动的方向\n",
    "    def findDirection(self):\n",
    "        best_move = self.choose_shortest_safe_move()\n",
    "        if best_move == \"none\":\n",
    "        \tbest_move = self.any_possible_move()\n",
    "    \n",
    "        #return \"down\"\n",
    "        return best_move # 真的来了啊\n",
    "\n",
    "    \n",
    "    # 从蛇头开始，根据board中元素值，\n",
    "    # 从蛇头周围4个领域点中选择最短路径\n",
    "    # 确保移动后蛇头与食物的欧氏距离比移动前的要小即可\n",
    "    # 返回值为\"left\" \"right\" \"up\" \"down\" \"none\"之一\n",
    "    def choose_shortest_safe_move(self, board = None):\n",
    "        # 创建虚拟的棋盘 该棋盘可能来源于真实的棋盘 也可能来源于虚拟生成的棋盘\n",
    "        if board:\n",
    "            tmpboard = copy.deepcopy(board)\n",
    "        else:\n",
    "            tmpboard = copy.deepcopy(self.board)\n",
    "        \n",
    "        best_move = \"none\"\n",
    "        dir = [\"left\", \"up\", \"right\", \"down\"]\n",
    "        for i in range(4):\n",
    "            # 判断这个点是否能往这个方向移动(去寻找食物)\n",
    "            if tmpboard.is_move_possible(tmpboard.head, dir[i]):\n",
    "                # 移动后的点\n",
    "                next = tmpboard.move(tmpboard.head, dir[i])\n",
    "                # 判断移动后的点与食物的距离是否比移动前的点与食物的距离要小\n",
    "                if manhattan_distance(next, tmpboard.food) < manhattan_distance(tmpboard.head, tmpboard.food):\n",
    "                    # 判断两个点之间是否有障碍(蛇尾)无法直接通过曼哈顿距离到达\n",
    "                    if not tmpboard.is_obstacle_between(next, tmpboard.food):\n",
    "                        best_move = dir[i]\n",
    "                        break\n",
    "        \n",
    "        return best_move"
   ]
  },
  {
   "cell_type": "code",
   "execution_count": null,
   "id": "7871aa25",
   "metadata": {},
   "outputs": [],
   "source": []
  }
 ],
 "metadata": {
  "kernelspec": {
   "display_name": "Python 3.7.10 64-bit ('object_tracking': conda)",
   "language": "python",
   "name": "python371064bitobjecttrackingconda66c6f2efc4d740808a4620e21504b8f3"
  },
  "language_info": {
   "codemirror_mode": {
    "name": "ipython",
    "version": 3
   },
   "file_extension": ".py",
   "mimetype": "text/x-python",
   "name": "python",
   "nbconvert_exporter": "python",
   "pygments_lexer": "ipython3",
   "version": "3.7.10"
  },
  "toc": {
   "base_numbering": 1,
   "nav_menu": {},
   "number_sections": true,
   "sideBar": true,
   "skip_h1_title": false,
   "title_cell": "Table of Contents",
   "title_sidebar": "Contents",
   "toc_cell": false,
   "toc_position": {},
   "toc_section_display": true,
   "toc_window_display": false
  },
  "varInspector": {
   "cols": {
    "lenName": 16,
    "lenType": 16,
    "lenVar": 40
   },
   "kernels_config": {
    "python": {
     "delete_cmd_postfix": "",
     "delete_cmd_prefix": "del ",
     "library": "var_list.py",
     "varRefreshCmd": "print(var_dic_list())"
    },
    "r": {
     "delete_cmd_postfix": ") ",
     "delete_cmd_prefix": "rm(",
     "library": "var_list.r",
     "varRefreshCmd": "cat(var_dic_list()) "
    }
   },
   "types_to_exclude": [
    "module",
    "function",
    "builtin_function_or_method",
    "instance",
    "_Feature"
   ],
   "window_display": false
  }
 },
 "nbformat": 4,
 "nbformat_minor": 5
}
