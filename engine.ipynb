{
 "cells": [
  {
   "cell_type": "code",
   "execution_count": null,
   "id": "fb3a35e7",
   "metadata": {},
   "outputs": [],
   "source": [
    "import ipy_importer"
   ]
  },
  {
   "cell_type": "code",
   "execution_count": null,
   "id": "fa3e6b9b",
   "metadata": {},
   "outputs": [],
   "source": [
    "import time\n",
    "import sys\n",
    "import pygame\n",
    "from pygame.locals import *\n",
    "from const import * #使用常量\n",
    "# 游戏引擎类\n",
    "class Engine:\n",
    "\n",
    "\n",
    "    # 构造器 传入棋盘对象\n",
    "    def __init__(self, board):\n",
    "        self.board = board\n",
    "\n",
    "    # 定义gameOver函数\n",
    "    def gameOver(self, playSurface):\n",
    "        gameOverFont = pygame.font.Font('arial.ttf',72)\n",
    "        gameOverSurf = gameOverFont.render('Game Over', True, const.GRAY_COLOR)\n",
    "        gameOverRect = gameOverSurf.get_rect()\n",
    "        gameOverRect.midtop = (320, 10)\n",
    "        playSurface.blit(gameOverSurf, gameOverRect)\n",
    "        pygame.display.flip()\n",
    "        time.sleep(5)\n",
    "        pygame.quit()\n",
    "        sys.exit()\n"
   ]
  }
 ],
 "metadata": {
  "kernelspec": {
   "display_name": "Python 3.7.10 64-bit ('object_tracking': conda)",
   "language": "python",
   "name": "python371064bitobjecttrackingconda66c6f2efc4d740808a4620e21504b8f3"
  },
  "language_info": {
   "codemirror_mode": {
    "name": "ipython",
    "version": 3
   },
   "file_extension": ".py",
   "mimetype": "text/x-python",
   "name": "python",
   "nbconvert_exporter": "python",
   "pygments_lexer": "ipython3",
   "version": "3.7.10"
  },
  "toc": {
   "base_numbering": 1,
   "nav_menu": {},
   "number_sections": true,
   "sideBar": true,
   "skip_h1_title": false,
   "title_cell": "Table of Contents",
   "title_sidebar": "Contents",
   "toc_cell": false,
   "toc_position": {},
   "toc_section_display": true,
   "toc_window_display": false
  },
  "varInspector": {
   "cols": {
    "lenName": 16,
    "lenType": 16,
    "lenVar": 40
   },
   "kernels_config": {
    "python": {
     "delete_cmd_postfix": "",
     "delete_cmd_prefix": "del ",
     "library": "var_list.py",
     "varRefreshCmd": "print(var_dic_list())"
    },
    "r": {
     "delete_cmd_postfix": ") ",
     "delete_cmd_prefix": "rm(",
     "library": "var_list.r",
     "varRefreshCmd": "cat(var_dic_list()) "
    }
   },
   "types_to_exclude": [
    "module",
    "function",
    "builtin_function_or_method",
    "instance",
    "_Feature"
   ],
   "window_display": false
  }
 },
 "nbformat": 4,
 "nbformat_minor": 5
}
